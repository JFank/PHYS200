{
 "metadata": {
  "name": "Chapter4"
 },
 "nbformat": 3,
 "worksheets": [
  {
   "cells": [
    {
     "cell_type": "heading",
     "level": 3,
     "source": [
      "Exercise 4.1:"
     ]
    },
    {
     "cell_type": "code",
     "collapsed": true,
     "input": [
      "import sys",
      "sys.path.append('/Library/Frameworks/Python.framework/Versions/7.2/lib/python2.7/site-packages/swampy-2.0')",
      "from TurtleWorld import *",
      "world = TurtleWorld() ",
      "bob = Turtle() ",
      "import math",
      "",
      "def square(t):",
      "\tfor i in range(4):",
      "\t\tfd(t, 100)",
      "\t\tlt(t)",
      "\t",
      "def polygon(t, n, length): ",
      "\t\"\"\"draws a polygon with n segments each of them a given length",
      "\tand angle between them. t is the turtle you use\"\"\"",
      "\tangle = 360.0 / n ",
      "\tpolyline(t, n, length, angle)",
      "\t\t",
      "def circle(t, r):",
      "\t\"\"\"t is the turtle you use. draws n arc with a radius of r",
      "\tfor a full 360 degrees\"\"\"",
      "\tarc(t, r, 360)",
      "\t",
      "def arc(t, r, angle): ",
      "\t\"\"\"draws an arc calculated by the angular fraction of a circle of",
      "\tradius r. t is the turtle you use. n is based on the size of the radius",
      "\tand circle\"\"\"",
      "\tarc_length = 2 * math.pi * r * abs(angle) / 360",
      "\tn = int(arc_length / 4) + 1",
      "\tstep_length = arc_length / n",
      "\tstep_angle = float(angle) / n",
      "\tlt(t, step_angle/2)",
      "\tpolyline(t, n, step_length, step_angle)",
      "\trt(t, step_angle/2)",
      "\t\t\t",
      "def polyline(t, n, length, angle): ",
      "\tfor i in range(n):",
      "\t\tfd(t, length) ",
      "\t\tlt(t, angle)",
      "\t\t"
     ],
     "language": "python",
     "outputs": [],
     "prompt_number": 1
    },
    {
     "cell_type": "plaintext",
     "source": [
      "Main:",
      "    polyline---> curve of n step lengths that shift at a given angle based on n",
      "Arc:",
      "    arc_length---> gives the portion of the circumferance of the possible circle",
      "    step_length---> the arc_length divided between n steps",
      "    step_angle---> given angle divided into n steps",
      "    polyline---> newly defined length and angle via step_length and step_angle allows for more accurate depiction",
      "Circle:",
      "    arc---> simplifies the arc function and completes it for a full 360 degrees"
     ]
    },
    {
     "cell_type": "code",
     "collapsed": false,
     "input": [
      "2**4"
     ],
     "language": "python",
     "outputs": [
      {
       "output_type": "pyout",
       "prompt_number": 1,
       "text": [
        "16"
       ]
      }
     ],
     "prompt_number": 1
    },
    {
     "cell_type": "code",
     "collapsed": false,
     "input": [
      "cos(45)"
     ],
     "language": "python",
     "outputs": [
      {
       "output_type": "pyout",
       "prompt_number": 2,
       "text": [
        "0.52532198881772973"
       ]
      }
     ],
     "prompt_number": 2
    },
    {
     "cell_type": "heading",
     "level": 3,
     "source": [
      "Exercise 4.3:"
     ]
    },
    {
     "cell_type": "code",
     "collapsed": false,
     "input": [
      "# my code that doesn't work, I can't figure out how to make cosine work on ipython... it says ",
      "#'builtin_function_or_method' object is not subscriptable",
      "import sys",
      "sys.path.append('/Library/Frameworks/Python.framework/Versions/7.2/lib/python2.7/site-packages/swampy-2.0')",
      "",
      "from TurtleWorld import *",
      "",
      "world = TurtleWorld()",
      "bob = Turtle()",
      "import math",
      "",
      "def triangle(t, angle, length):\t",
      "\tlengthC= math.sqrt[(2*length**2) * (1 - math.cos(angle))]",
      "\tfd(bob, length)",
      "\tturn= float((180.0-angle)/2.0)",
      "\tlt(bob, 180.0-turn)",
      "\tfd(bob, lengthC)",
      "\tlt(bob)",
      "\tlt(bob)",
      "\tfd(bob,length)\t",
      "",
      "def figure(t, n, length):",
      "\tfor i in range (n):",
      "\t\tangle= float(360.0/n)",
      "\t\ttriangle(t, angle, length)",
      "",
      "\t\t",
      "figure(bob, 12, 30)"
     ],
     "language": "python",
     "outputs": [
      {
       "ename": "TypeError",
       "evalue": "'builtin_function_or_method' object is not subscriptable",
       "output_type": "pyerr",
       "traceback": [
        "\u001b[0;31m---------------------------------------------------------------------------\u001b[0m\n\u001b[0;31mTypeError\u001b[0m                                 Traceback (most recent call last)",
        "\u001b[0;32m/Users/jfank/PHYS200/<ipython-input-3-60524a1bdd22>\u001b[0m in \u001b[0;36m<module>\u001b[0;34m()\u001b[0m\n\u001b[1;32m     26\u001b[0m \u001b[0;34m\u001b[0m\u001b[0m\n\u001b[1;32m     27\u001b[0m \u001b[0;34m\u001b[0m\u001b[0m\n\u001b[0;32m---> 28\u001b[0;31m \u001b[0mfigure\u001b[0m\u001b[0;34m(\u001b[0m\u001b[0mbob\u001b[0m\u001b[0;34m,\u001b[0m \u001b[0;36m12\u001b[0m\u001b[0;34m,\u001b[0m \u001b[0;36m30\u001b[0m\u001b[0;34m)\u001b[0m\u001b[0;34m\u001b[0m\u001b[0m\n\u001b[0m",
        "\u001b[0;32m/Users/jfank/PHYS200/<ipython-input-3-60524a1bdd22>\u001b[0m in \u001b[0;36mfigure\u001b[0;34m(t, n, length)\u001b[0m\n\u001b[1;32m     23\u001b[0m         \u001b[0;32mfor\u001b[0m \u001b[0mi\u001b[0m \u001b[0;32min\u001b[0m \u001b[0mrange\u001b[0m \u001b[0;34m(\u001b[0m\u001b[0mn\u001b[0m\u001b[0;34m)\u001b[0m\u001b[0;34m:\u001b[0m\u001b[0;34m\u001b[0m\u001b[0m\n\u001b[1;32m     24\u001b[0m                 \u001b[0mangle\u001b[0m\u001b[0;34m=\u001b[0m \u001b[0mfloat\u001b[0m\u001b[0;34m(\u001b[0m\u001b[0;36m360.0\u001b[0m\u001b[0;34m/\u001b[0m\u001b[0mn\u001b[0m\u001b[0;34m)\u001b[0m\u001b[0;34m\u001b[0m\u001b[0m\n\u001b[0;32m---> 25\u001b[0;31m                 \u001b[0mtriangle\u001b[0m\u001b[0;34m(\u001b[0m\u001b[0mt\u001b[0m\u001b[0;34m,\u001b[0m \u001b[0mangle\u001b[0m\u001b[0;34m,\u001b[0m \u001b[0mlength\u001b[0m\u001b[0;34m)\u001b[0m\u001b[0;34m\u001b[0m\u001b[0m\n\u001b[0m\u001b[1;32m     26\u001b[0m \u001b[0;34m\u001b[0m\u001b[0m\n\u001b[1;32m     27\u001b[0m \u001b[0;34m\u001b[0m\u001b[0m\n",
        "\u001b[0;32m/Users/jfank/PHYS200/<ipython-input-3-60524a1bdd22>\u001b[0m in \u001b[0;36mtriangle\u001b[0;34m(t, angle, length)\u001b[0m\n\u001b[1;32m     11\u001b[0m \u001b[0;34m\u001b[0m\u001b[0m\n\u001b[1;32m     12\u001b[0m \u001b[0;32mdef\u001b[0m \u001b[0mtriangle\u001b[0m\u001b[0;34m(\u001b[0m\u001b[0mt\u001b[0m\u001b[0;34m,\u001b[0m \u001b[0mangle\u001b[0m\u001b[0;34m,\u001b[0m \u001b[0mlength\u001b[0m\u001b[0;34m)\u001b[0m\u001b[0;34m:\u001b[0m\u001b[0;34m\u001b[0m\u001b[0m\n\u001b[0;32m---> 13\u001b[0;31m         \u001b[0mlengthC\u001b[0m\u001b[0;34m=\u001b[0m \u001b[0mmath\u001b[0m\u001b[0;34m.\u001b[0m\u001b[0msqrt\u001b[0m\u001b[0;34m[\u001b[0m\u001b[0;34m(\u001b[0m\u001b[0;36m2\u001b[0m\u001b[0;34m*\u001b[0m\u001b[0mlength\u001b[0m\u001b[0;34m**\u001b[0m\u001b[0;36m2\u001b[0m\u001b[0;34m)\u001b[0m \u001b[0;34m*\u001b[0m \u001b[0;34m(\u001b[0m\u001b[0;36m1\u001b[0m\u001b[0;34m-\u001b[0m\u001b[0mmath\u001b[0m\u001b[0;34m.\u001b[0m\u001b[0mcos\u001b[0m\u001b[0;34m(\u001b[0m\u001b[0mangle\u001b[0m\u001b[0;34m)\u001b[0m\u001b[0;34m)\u001b[0m\u001b[0;34m]\u001b[0m\u001b[0;34m\u001b[0m\u001b[0m\n\u001b[0m\u001b[1;32m     14\u001b[0m         \u001b[0mfd\u001b[0m\u001b[0;34m(\u001b[0m\u001b[0mbob\u001b[0m\u001b[0;34m,\u001b[0m \u001b[0mlength\u001b[0m\u001b[0;34m)\u001b[0m\u001b[0;34m\u001b[0m\u001b[0m\n\u001b[1;32m     15\u001b[0m         \u001b[0mturn\u001b[0m\u001b[0;34m=\u001b[0m \u001b[0mfloat\u001b[0m\u001b[0;34m(\u001b[0m\u001b[0;34m(\u001b[0m\u001b[0;36m180.0\u001b[0m\u001b[0;34m-\u001b[0m\u001b[0mangle\u001b[0m\u001b[0;34m)\u001b[0m\u001b[0;34m/\u001b[0m\u001b[0;36m2.0\u001b[0m\u001b[0;34m)\u001b[0m\u001b[0;34m\u001b[0m\u001b[0m\n",
        "\u001b[0;31mTypeError\u001b[0m: 'builtin_function_or_method' object is not subscriptable"
       ]
      }
     ],
     "prompt_number": 3
    },
    {
     "cell_type": "code",
     "collapsed": true,
     "input": [
      "def draw_pie(t, n, r):",
      "    \"\"\"use Turtle (t) to draw a polypie and then move forward.",
      "    (n) is the number of segments in the pie.",
      "    (r) is the spoke length.",
      "    \"\"\"",
      "    polypie(t, n, r)",
      "    pu(t)",
      "    fd(t, r*2 + 10)",
      "    pd(t)",
      "    ",
      "def polypie(t, n, r):",
      "    \"\"\"use Turtle (t) to draw a pie with (n) triangular slices with",
      "    spoke length (r).  (n) must be greater than 2.",
      "    (t) ends at the starting position, orientation.",
      "    \"\"\"",
      "    theta = 360.0 / n",
      "    for i in range(n):",
      "        isosceles(t, r, theta/2)",
      "        lt(t, theta)",
      "",
      "def isosceles(t, r, theta):",
      "    \"\"\"use Turtle (t) to draw an isosceles triangle with leg length",
      "    (r) and peak angle (theta) in degrees.  (t) starts and ends",
      "    at the peak, facing the middle of the base.",
      "    (t) ends at the starting position, orientation.",
      "    \"\"\"",
      "    y = r * math.sin(theta*math.pi/180)",
      "",
      "    rt(t, theta)",
      "    fd(t, r)",
      "    lt(t, 90+theta)",
      "    fd(t, 2*y)",
      "    lt(t, 90+theta)",
      "    fd(t, r)",
      "    lt(t, 180-theta)"
     ],
     "language": "python",
     "outputs": [],
     "prompt_number": 4
    },
    {
     "cell_type": "heading",
     "level": 3,
     "source": [
      "Exercise 4.4:"
     ]
    },
    {
     "cell_type": "code",
     "collapsed": true,
     "input": [],
     "language": "python",
     "outputs": []
    }
   ]
  }
 ]
}