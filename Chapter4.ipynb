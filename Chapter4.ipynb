{
 "metadata": {
  "name": "Chapter4"
 },
 "nbformat": 3,
 "worksheets": [
  {
   "cells": [
    {
     "cell_type": "heading",
     "level": 3,
     "source": [
      "Exercise 4.1:"
     ]
    },
    {
     "cell_type": "code",
     "collapsed": true,
     "input": [
      "import sys",
      "sys.path.append('/Library/Frameworks/Python.framework/Versions/7.2/lib/python2.7/site-packages/swampy-2.0')",
      "from TurtleWorld import *",
      "world = TurtleWorld() ",
      "bob = Turtle() ",
      "import math",
      "",
      "def square(t):",
      "\tfor i in range(4):",
      "\t\tfd(t, 100)",
      "\t\tlt(t)",
      "\t",
      "def polygon(t, n, length): ",
      "\t\"\"\"draws a polygon with n segments each of them a given length",
      "\tand angle between them. t is the turtle you use\"\"\"",
      "\tangle = 360.0 / n ",
      "\tpolyline(t, n, length, angle)",
      "\t\t",
      "def circle(t, r):",
      "\t\"\"\"t is the turtle you use. draws n arc with a radius of r",
      "\tfor a full 360 degrees\"\"\"",
      "\tarc(t, r, 360)",
      "\t",
      "def arc(t, r, angle): ",
      "\t\"\"\"draws an arc calculated by the angular fraction of a circle of",
      "\tradius r. t is the turtle you use. n is based on the size of the radius",
      "\tand circle\"\"\"",
      "\tarc_length = 2 * math.pi * r * abs(angle) / 360",
      "\tn = int(arc_length / 4) + 1",
      "\tstep_length = arc_length / n",
      "\tstep_angle = float(angle) / n",
      "\tlt(t, step_angle/2)",
      "\tpolyline(t, n, step_length, step_angle)",
      "\trt(t, step_angle/2)",
      "\t\t\t",
      "def polyline(t, n, length, angle): ",
      "\tfor i in range(n):",
      "\t\tfd(t, length) ",
      "\t\tlt(t, angle)",
      "\t\t"
     ],
     "language": "python",
     "outputs": [],
     "prompt_number": 1
    },
    {
     "cell_type": "plaintext",
     "source": [
      "Main:",
      "    polyline---> curve of n step lengths that shift at a given angle based on n",
      "Arc:",
      "    arc_length---> gives the portion of the circumferance of the possible circle",
      "    step_length---> the arc_length divided between n steps",
      "    step_angle---> given angle divided into n steps",
      "    polyline---> newly defined length and angle via step_length and step_angle allows for more accurate depiction",
      "Circle:",
      "    arc---> simplifies the arc function and completes it for a full 360 degrees"
     ]
    },
    {
     "cell_type": "code",
     "collapsed": true,
     "input": [],
     "language": "python",
     "outputs": []
    }
   ]
  }
 ]
}