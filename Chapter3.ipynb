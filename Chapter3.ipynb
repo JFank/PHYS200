{
 "metadata": {
  "name": "Chapter3"
 },
 "nbformat": 3,
 "worksheets": [
  {
   "cells": [
    {
     "cell_type": "code",
     "collapsed": true,
     "input": [
      "import math"
     ],
     "language": "python",
     "outputs": [],
     "prompt_number": 1
    },
    {
     "cell_type": "code",
     "collapsed": false,
     "input": [
      "print math"
     ],
     "language": "python",
     "outputs": [
      {
       "output_type": "stream",
       "stream": "stdout",
       "text": [
        "<module 'math' from '/Library/Frameworks/Python.framework/Versions/7.2/lib/python2.7/lib-dynload/math.so'>"
       ]
      }
     ],
     "prompt_number": 2
    },
    {
     "cell_type": "code",
     "collapsed": false,
     "input": [
      "math.pi"
     ],
     "language": "python",
     "outputs": [
      {
       "output_type": "pyout",
       "prompt_number": 3,
       "text": [
        "3.141592653589793"
       ]
      }
     ],
     "prompt_number": 3
    },
    {
     "cell_type": "heading",
     "level": 3,
     "source": [
      "Exercise 3.1:"
     ]
    },
    {
     "cell_type": "code",
     "collapsed": false,
     "input": [
      "repeat_lyrics()",
      "def print_lyrics(): ",
      "    print \"I'm a lumberjack, and I'm okay.\" ",
      "    print \"I sleep all night and I work all day.\"",
      "def repeat_lyrics(): ",
      "    print_lyrics() ",
      "    print_lyrics()"
     ],
     "language": "python",
     "outputs": [
      {
       "ename": "NameError",
       "evalue": "name 'repeat_lyrics' is not defined",
       "output_type": "pyerr",
       "traceback": [
        "\u001b[0;31m---------------------------------------------------------------------------\u001b[0m\n\u001b[0;31mNameError\u001b[0m                                 Traceback (most recent call last)",
        "\u001b[0;32m/Users/jfank/PHYS200/<ipython-input-4-0e9376eeaa75>\u001b[0m in \u001b[0;36m<module>\u001b[0;34m()\u001b[0m\n\u001b[0;32m----> 1\u001b[0;31m \u001b[0mrepeat_lyrics\u001b[0m\u001b[0;34m(\u001b[0m\u001b[0;34m)\u001b[0m\u001b[0;34m\u001b[0m\u001b[0m\n\u001b[0m\u001b[1;32m      2\u001b[0m \u001b[0;32mdef\u001b[0m \u001b[0mprint_lyrics\u001b[0m\u001b[0;34m(\u001b[0m\u001b[0;34m)\u001b[0m\u001b[0;34m:\u001b[0m\u001b[0;34m\u001b[0m\u001b[0m\n\u001b[1;32m      3\u001b[0m     \u001b[0;32mprint\u001b[0m \u001b[0;34m\"I'm a lumberjack, and I'm okay.\"\u001b[0m\u001b[0;34m\u001b[0m\u001b[0m\n\u001b[1;32m      4\u001b[0m     \u001b[0;32mprint\u001b[0m \u001b[0;34m\"I sleep all night and I work all day.\"\u001b[0m\u001b[0;34m\u001b[0m\u001b[0m\n\u001b[1;32m      5\u001b[0m \u001b[0;32mdef\u001b[0m \u001b[0mrepeat_lyrics\u001b[0m\u001b[0;34m(\u001b[0m\u001b[0;34m)\u001b[0m\u001b[0;34m:\u001b[0m\u001b[0;34m\u001b[0m\u001b[0m\n",
        "\u001b[0;31mNameError\u001b[0m: name 'repeat_lyrics' is not defined"
       ]
      }
     ],
     "prompt_number": 4
    },
    {
     "cell_type": "heading",
     "level": 3,
     "source": [
      "Exercise 3.2:"
     ]
    },
    {
     "cell_type": "code",
     "collapsed": false,
     "input": [
      "def repeat_lyrics(): ",
      "    print_lyrics() ",
      "    print_lyrics()",
      "def print_lyrics(): ",
      "    print \"I'm a lumberjack, and I'm okay.\" ",
      "    print \"I sleep all night and I work all day.\"",
      "repeat_lyrics()"
     ],
     "language": "python",
     "outputs": [
      {
       "output_type": "stream",
       "stream": "stdout",
       "text": [
        "I'm a lumberjack, and I'm okay.",
        "I sleep all night and I work all day.",
        "I'm a lumberjack, and I'm okay.",
        "I sleep all night and I work all day."
       ]
      }
     ],
     "prompt_number": 5
    },
    {
     "cell_type": "heading",
     "level": 3,
     "source": [
      "Exercise 3.3:"
     ]
    },
    {
     "cell_type": "code",
     "collapsed": false,
     "input": [
      "len('allen')"
     ],
     "language": "python",
     "outputs": [
      {
       "output_type": "pyout",
       "prompt_number": 8,
       "text": [
        "5"
       ]
      }
     ],
     "prompt_number": 8
    },
    {
     "cell_type": "code",
     "collapsed": false,
     "input": [
      "def right_justify(allen):",
      "    print \"                                                                 allen\""
     ],
     "language": "python",
     "outputs": [],
     "prompt_number": 11
    },
    {
     "cell_type": "code",
     "collapsed": false,
     "input": [
      "right_justify('allen')"
     ],
     "language": "python",
     "outputs": [
      {
       "output_type": "stream",
       "stream": "stdout",
       "text": [
        "                                                                 allen"
       ]
      }
     ],
     "prompt_number": 29
    },
    {
     "cell_type": "heading",
     "level": 3,
     "source": [
      "Exercise 3.4:"
     ]
    },
    {
     "cell_type": "code",
     "collapsed": false,
     "input": [
      "def do_twice(f): ",
      "    f()",
      "    f()",
      "def print_spam():",
      "    print 'spam'",
      "do_twice(print_spam)"
     ],
     "language": "python",
     "outputs": [
      {
       "output_type": "stream",
       "stream": "stdout",
       "text": [
        "spam",
        "spam"
       ]
      }
     ],
     "prompt_number": 14
    },
    {
     "cell_type": "code",
     "collapsed": false,
     "input": [
      "def do_twice(f, bruce): ",
      "    f(bruce)",
      "    f(bruce)",
      "def print_twice(bruce):",
      "    print 'bruce'",
      "    print 'bruce'",
      "do_twice(print_twice, 'spam')"
     ],
     "language": "python",
     "outputs": [
      {
       "output_type": "stream",
       "stream": "stdout",
       "text": [
        "bruce",
        "bruce",
        "bruce",
        "bruce"
       ]
      }
     ],
     "prompt_number": 16
    },
    {
     "cell_type": "code",
     "collapsed": false,
     "input": [
      "def do_twice(f, bruce): ",
      "    f(bruce)",
      "    f(bruce)",
      "    ",
      "def print_twice(bruce):",
      "    print bruce",
      "    print bruce",
      "    ",
      "do_twice(print_twice, 'spam')",
      "print",
      "",
      "def do_four(f, bruce):",
      "    do_twice(f, bruce)",
      "    do_twice(f, bruce)",
      "    ",
      "do_four(print_twice, 'spam')",
      "print"
     ],
     "language": "python",
     "outputs": [
      {
       "output_type": "stream",
       "stream": "stdout",
       "text": [
        "spam",
        "spam",
        "spam",
        "spam",
        "",
        "spam",
        "spam",
        "spam",
        "spam",
        "spam",
        "spam",
        "spam",
        "spam"
       ]
      }
     ],
     "prompt_number": 24
    },
    {
     "cell_type": "heading",
     "level": 3,
     "source": [
      "Exercise 3.5:"
     ]
    },
    {
     "cell_type": "code",
     "collapsed": true,
     "input": [
      "def div_line():",
      "    print \"+ - - - - + - - - - +\"",
      "def row():",
      "    print \"|         |         |\"",
      "def four_chart():",
      "    div_line()",
      "    row()",
      "    row()",
      "    row()",
      "    row()",
      "    div_line()",
      "    row()",
      "    row()",
      "    row()",
      "    row()",
      "    div_line()"
     ],
     "language": "python",
     "outputs": [],
     "prompt_number": 35
    },
    {
     "cell_type": "code",
     "collapsed": false,
     "input": [
      "four_chart()"
     ],
     "language": "python",
     "outputs": [
      {
       "output_type": "stream",
       "stream": "stdout",
       "text": [
        "+ - - - - + - - - - +",
        "|         |         |",
        "|         |         |",
        "|         |         |",
        "|         |         |",
        "+ - - - - + - - - - +",
        "|         |         |",
        "|         |         |",
        "|         |         |",
        "|         |         |",
        "+ - - - - + - - - - +"
       ]
      }
     ],
     "prompt_number": 37
    },
    {
     "cell_type": "code",
     "collapsed": true,
     "input": [
      "def div_line():",
      "    print \"+ - - - - + - - - - +- - - - + - - - - +\"",
      "def row():",
      "    print \"|         |         |        |          |\"",
      "def eight_chart():",
      "    div_line()",
      "    row()",
      "    row()",
      "    row()",
      "    row()",
      "    div_line()",
      "    row()",
      "    row()",
      "    row()",
      "    row()",
      "    div_line()"
     ],
     "language": "python",
     "outputs": [],
     "prompt_number": 1
    },
    {
     "cell_type": "code",
     "collapsed": false,
     "input": [
      "eight_chart()"
     ],
     "language": "python",
     "outputs": [
      {
       "output_type": "stream",
       "stream": "stdout",
       "text": [
        "+ - - - - + - - - - +- - - - + - - - - +",
        "|         |         |        |          |",
        "|         |         |        |          |",
        "|         |         |        |          |",
        "|         |         |        |          |",
        "+ - - - - + - - - - +- - - - + - - - - +",
        "|         |         |        |          |",
        "|         |         |        |          |",
        "|         |         |        |          |",
        "|         |         |        |          |",
        "+ - - - - + - - - - +- - - - + - - - - +"
       ]
      }
     ],
     "prompt_number": 2
    },
    {
     "cell_type": "code",
     "collapsed": true,
     "input": [],
     "language": "python",
     "outputs": []
    }
   ]
  }
 ]
}