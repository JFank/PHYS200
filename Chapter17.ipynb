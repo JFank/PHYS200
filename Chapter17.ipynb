{
 "metadata": {
  "name": "Chapter17"
 },
 "nbformat": 3,
 "worksheets": [
  {
   "cells": [
    {
     "cell_type": "heading",
     "level": 3,
     "source": [
      "Exercise 17.1:"
     ]
    },
    {
     "cell_type": "code",
     "collapsed": false,
     "input": [
      "class Time(object):",
      "    \"\"\"represents the time of day.",
      "        attributes: hour, minute, second\"\"\"",
      " ",
      "time = Time()",
      "time.hour = 11",
      "time.minute = 59",
      "time.second = 30",
      " ",
      "def time_to_int(time):",
      "    minutes = time.hour * 60 + time.minute",
      "    seconds = minutes * 60 + time.second",
      "    return seconds",
      " ",
      "def int_to_time(seconds):",
      "    time = Time()",
      "    minutes, time.second = divmod(seconds, 60)",
      "    time.hour, time.minute = divmod(minutes, 60)",
      "    return time",
      " ",
      "def increment(time, addtime):",
      "    seconds = time_to_int(time)",
      "    return int_to_time(seconds + addtime)",
      " ",
      "def print_time (x):",
      "    print 'The time is %.2d : %.2d : %.2d' % (x.hour, x.minute, x.second)",
      "print_time (time)",
      " ",
      "newtime = increment (time, 70)",
      " ",
      "print_time (newtime)"
     ],
     "language": "python",
     "outputs": [
      {
       "output_type": "stream",
       "stream": "stdout",
       "text": [
        "The time is 11 : 59 : 30",
        "The time is 12 : 00 : 40"
       ]
      }
     ],
     "prompt_number": 1
    },
    {
     "cell_type": "code",
     "collapsed": false,
     "input": [
      "no sure what it wants us to do"
     ],
     "language": "python",
     "outputs": [
      {
       "ename": "SyntaxError",
       "evalue": "invalid syntax (<ipython-input-2-be46dd908ccd>, line 1)",
       "output_type": "pyerr",
       "traceback": [
        "\u001b[0;36m  File \u001b[0;32m\"<ipython-input-2-be46dd908ccd>\"\u001b[0;36m, line \u001b[0;32m1\u001b[0m\n\u001b[0;31m    no sure what it wants us to do\u001b[0m\n\u001b[0m          ^\u001b[0m\n\u001b[0;31mSyntaxError\u001b[0m\u001b[0;31m:\u001b[0m invalid syntax\n"
       ]
      }
     ],
     "prompt_number": 2
    },
    {
     "cell_type": "heading",
     "level": 3,
     "source": [
      "Exercise 17.2:"
     ]
    },
    {
     "cell_type": "code",
     "collapsed": true,
     "input": [],
     "language": "python",
     "outputs": [],
     "prompt_number": 2
    },
    {
     "cell_type": "code",
     "collapsed": true,
     "input": [],
     "language": "python",
     "outputs": [],
     "prompt_number": 2
    },
    {
     "cell_type": "heading",
     "level": 3,
     "source": [
      "Exercise 17.3:"
     ]
    },
    {
     "cell_type": "code",
     "collapsed": true,
     "input": [],
     "language": "python",
     "outputs": [],
     "prompt_number": 2
    },
    {
     "cell_type": "code",
     "collapsed": true,
     "input": [],
     "language": "python",
     "outputs": [],
     "prompt_number": 2
    },
    {
     "cell_type": "heading",
     "level": 3,
     "source": [
      "Exercise 17.4:"
     ]
    },
    {
     "cell_type": "code",
     "collapsed": true,
     "input": [],
     "language": "python",
     "outputs": [],
     "prompt_number": 2
    },
    {
     "cell_type": "code",
     "collapsed": true,
     "input": [],
     "language": "python",
     "outputs": [],
     "prompt_number": 2
    },
    {
     "cell_type": "code",
     "collapsed": true,
     "input": [],
     "language": "python",
     "outputs": []
    }
   ]
  }
 ]
}