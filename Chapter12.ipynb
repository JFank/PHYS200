{
 "metadata": {
  "name": "Chapter12"
 },
 "nbformat": 3,
 "worksheets": [
  {
   "cells": [
    {
     "cell_type": "heading",
     "level": 3,
     "source": [
      "Exercise 12.1:"
     ]
    },
    {
     "cell_type": "code",
     "collapsed": false,
     "input": [
      "t = (1,2,3)",
      "sum(t)"
     ],
     "language": "python",
     "outputs": [
      {
       "output_type": "pyout",
       "prompt_number": 1,
       "text": [
        "6"
       ]
      }
     ],
     "prompt_number": 1
    },
    {
     "cell_type": "code",
     "collapsed": false,
     "input": [
      "",
      "def sumall(*t):",
      "    tot = 0",
      "    for i in t:",
      "        tot = tot + i",
      "        r = list(t)",
      "    print tot",
      "  ",
      "sumall(1,3,5,6,7,22)"
     ],
     "language": "python",
     "outputs": [
      {
       "output_type": "stream",
       "stream": "stdout",
       "text": [
        "44"
       ]
      }
     ],
     "prompt_number": 34
    },
    {
     "cell_type": "code",
     "collapsed": false,
     "input": [
      "import random",
      "def sort_by_length(words): ",
      "    t=[]",
      "    for word in words: ",
      "        t.append((len(word), word))",
      "        t.sort(reverse=True)",
      "        res=[] ",
      "    for length, word in t:",
      "            res.append(word) ",
      "    return t"
     ],
     "language": "python",
     "outputs": [],
     "prompt_number": 72
    },
    {
     "cell_type": "code",
     "collapsed": false,
     "input": [
      "words = ('steve','bob','gull','rob','aod','zod')",
      "sort_by_length(words)"
     ],
     "language": "python",
     "outputs": [
      {
       "output_type": "pyout",
       "prompt_number": 73,
       "text": [
        "[(5, 'steve'), (4, 'gull'), (3, 'zod'), (3, 'rob'), (3, 'bob'), (3, 'aod')]"
       ]
      }
     ],
     "prompt_number": 73
    },
    {
     "cell_type": "heading",
     "level": 3,
     "source": [
      "Exercise 12.2:"
     ]
    },
    {
     "cell_type": "code",
     "collapsed": false,
     "input": [
      "import random",
      " ",
      "def sort_by_length(words):",
      "        t = []",
      "        for word in words:",
      "                t.append((len(word),word))",
      "        t.sort(reverse=True)",
      "        res = []",
      "        for length, word in t:",
      "                res.append(word)",
      "    ",
      "        i=0",
      "        final = []",
      "        while i <= len(res)-2:",
      "                if len(res[i]) == len(res[i+1]):",
      "                        y_list = [res[i], res[i+1]] #had to look online for a solution to this one, but after looking at it",
      "                        random.shuffle(y_list)      #I understand what is going on in the coding",
      "                        final = final + y_list",
      "                        i += 2",
      "                else:",
      "                        final.append(res[i])",
      "                        i += 1",
      "        if i == len(res)-1:",
      "                final.append(res[i])",
      "        return final",
      "    ",
      "words = ('steve','bob','gull','rob','aod','zod')",
      "sort_by_length(words)"
     ],
     "language": "python",
     "outputs": [
      {
       "output_type": "pyout",
       "prompt_number": 47,
       "text": [
        "['steve', 'gull', 'zod', 'rob', 'aod', 'bob']"
       ]
      }
     ],
     "prompt_number": 47
    },
    {
     "cell_type": "heading",
     "level": 3,
     "source": [
      "Exercise 12.3:"
     ]
    },
    {
     "cell_type": "code",
     "collapsed": false,
     "input": [],
     "language": "python",
     "outputs": [],
     "prompt_number": 51
    },
    {
     "cell_type": "code",
     "collapsed": false,
     "input": [
      "def most_frequent(word):",
      "    tup = tuple(word) #I have no clue what to do for this... I can't figure any of this stuff out...",
      "    i = 0",
      "    for i in range(len(word)-1):",
      "        if tup[i] == tup[i+1]:",
      "            i += 2",
      "            print 'count'",
      "",
      "",
      "most_frequent('mississippi')"
     ],
     "language": "python",
     "outputs": [
      {
       "output_type": "stream",
       "stream": "stdout",
       "text": [
        "count",
        "count",
        "count"
       ]
      }
     ],
     "prompt_number": 105
    },
    {
     "cell_type": "code",
     "collapsed": false,
     "input": [],
     "language": "python",
     "outputs": [],
     "prompt_number": 89
    },
    {
     "cell_type": "code",
     "collapsed": true,
     "input": [],
     "language": "python",
     "outputs": []
    }
   ]
  }
 ]
}