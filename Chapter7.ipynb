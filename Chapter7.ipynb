{
 "metadata": {
  "name": "Chapter7"
 },
 "nbformat": 3,
 "worksheets": [
  {
   "cells": [
    {
     "cell_type": "heading",
     "level": 3,
     "source": [
      "Exercise 7.1:"
     ]
    },
    {
     "cell_type": "code",
     "collapsed": false,
     "input": [
      "def print_n(n,word):",
      "    while n>0:",
      "        print word",
      "        n=n-1"
     ],
     "language": "python",
     "outputs": [],
     "prompt_number": 3
    },
    {
     "cell_type": "code",
     "collapsed": false,
     "input": [
      "print_n(10,'bird')"
     ],
     "language": "python",
     "outputs": [
      {
       "output_type": "stream",
       "stream": "stdout",
       "text": [
        "bird",
        "bird",
        "bird",
        "bird",
        "bird",
        "bird",
        "bird",
        "bird",
        "bird",
        "bird"
       ]
      }
     ],
     "prompt_number": 4
    },
    {
     "cell_type": "heading",
     "level": 3,
     "source": [
      "Exercise 7.2:"
     ]
    },
    {
     "cell_type": "code",
     "collapsed": false,
     "input": [
      "def square_root(x):",
      "    a = float(x+.0000001)",
      "    y = float((x+a/x)/2)",
      "    while True:",
      "        print x",
      "        y=(x+a/x)/2 ",
      "        if y==x:",
      "            break ",
      "        x=y",
      "        print x"
     ],
     "language": "python",
     "outputs": [],
     "prompt_number": 1
    },
    {
     "cell_type": "code",
     "collapsed": false,
     "input": [
      "square_root(16)"
     ],
     "language": "python",
     "outputs": [
      {
       "output_type": "stream",
       "stream": "stdout",
       "text": [
        "16",
        "8.50000000313",
        "8.50000000313",
        "5.19117647769",
        "5.19117647769",
        "4.13666473362",
        "4.13666473362",
        "4.00225753725",
        "4.00225753725",
        "4.00000064919",
        "4.00000064919",
        "4.0000000125",
        "4.0000000125",
        "4.0000000125",
        "4.0000000125"
       ]
      }
     ],
     "prompt_number": 2
    },
    {
     "cell_type": "heading",
     "level": 3,
     "source": [
      "Exercise 7.4:"
     ]
    },
    {
     "cell_type": "code",
     "collapsed": false,
     "input": [
      "def eval_loop():",
      "    while True:",
      "    \timport math",
      "        line = raw_input('--> ')",
      "        if line == 'done':",
      "            break",
      "        output = eval(line)",
      "        print output\t",
      "        ",
      "    print output",
      "    print 'Donezo with the funzo!'"
     ],
     "language": "python",
     "outputs": [],
     "prompt_number": 7
    },
    {
     "cell_type": "code",
     "collapsed": true,
     "input": [],
     "language": "python",
     "outputs": []
    }
   ]
  }
 ]
}