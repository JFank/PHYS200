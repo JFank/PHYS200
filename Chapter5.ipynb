{
 "metadata": {
  "name": "Chapter5"
 },
 "nbformat": 3,
 "worksheets": [
  {
   "cells": [
    {
     "cell_type": "code",
     "collapsed": false,
     "input": [
      "9 % 2"
     ],
     "language": "python",
     "outputs": [
      {
       "output_type": "pyout",
       "prompt_number": 1,
       "text": [
        "1"
       ]
      }
     ],
     "prompt_number": 1
    },
    {
     "cell_type": "code",
     "collapsed": false,
     "input": [
      "9 % 3"
     ],
     "language": "python",
     "outputs": [
      {
       "output_type": "pyout",
       "prompt_number": 2,
       "text": [
        "0"
       ]
      }
     ],
     "prompt_number": 2
    },
    {
     "cell_type": "code",
     "collapsed": false,
     "input": [
      "3 ==4"
     ],
     "language": "python",
     "outputs": [
      {
       "output_type": "pyout",
       "prompt_number": 4,
       "text": [
        "False"
       ]
      }
     ],
     "prompt_number": 4
    },
    {
     "cell_type": "code",
     "collapsed": false,
     "input": [
      "if x == y:",
      "    print 'wooooooo'",
      "else:",
      "    print 'ahhhhhhh'",
      "x=4",
      "y=4"
     ],
     "language": "python",
     "outputs": [
      {
       "output_type": "stream",
       "stream": "stdout",
       "text": [
        "wooooooo"
       ]
      }
     ],
     "prompt_number": 19
    },
    {
     "cell_type": "code",
     "collapsed": false,
     "input": [
      "if x==y: ",
      "    print 'x and y are equal'",
      "else: ",
      "    if x<y:",
      "        print 'x is less than y' ",
      "    else:",
      "        print 'x is greater than y'",
      "    ",
      "x=4",
      "y=-1"
     ],
     "language": "python",
     "outputs": [
      {
       "output_type": "stream",
       "stream": "stdout",
       "text": [
        "x is greater than y"
       ]
      }
     ],
     "prompt_number": 30
    },
    {
     "cell_type": "code",
     "collapsed": false,
     "input": [
      "def countdown(n): ",
      "    if n<=0:",
      "        print 'Blastoff!' ",
      "    else:",
      "        print n ",
      "        countdown(n-1)",
      "",
      "countdown(4)"
     ],
     "language": "python",
     "outputs": [
      {
       "output_type": "stream",
       "stream": "stdout",
       "text": [
        "4",
        "3",
        "2",
        "1",
        "Blastoff!"
       ]
      }
     ],
     "prompt_number": 39
    },
    {
     "cell_type": "code",
     "collapsed": false,
     "input": [
      "def countdown(n): ",
      "    if n<=0:",
      "        print 'Blastoff!' ",
      "    else:",
      "        print n ",
      "        countdown(n-1)",
      "",
      "def do_i(f,i):",
      "    if i<=0:",
      "        pass",
      "    else:",
      "        countdown(n) # How do I use \"f\" in this situation, if I just put in f, it doesn't work...",
      "        do_i(f,i-1)",
      "        ",
      "",
      "do_i(countdown(4),3)"
     ],
     "language": "python",
     "outputs": [
      {
       "output_type": "stream",
       "stream": "stdout",
       "text": [
        "4",
        "3",
        "2",
        "1",
        "Blastoff!",
        "4",
        "3",
        "2",
        "1",
        "Blastoff!",
        "4",
        "3",
        "2",
        "1",
        "Blastoff!",
        "4",
        "3",
        "2",
        "1",
        "Blastoff!"
       ]
      }
     ],
     "prompt_number": 47
    },
    {
     "cell_type": "code",
     "collapsed": false,
     "input": [
      "2**3"
     ],
     "language": "python",
     "outputs": [
      {
       "output_type": "pyout",
       "prompt_number": 59,
       "text": [
        "8"
       ]
      }
     ],
     "prompt_number": 59
    },
    {
     "cell_type": "heading",
     "level": 3,
     "source": [
      "Exercise 5.1:"
     ]
    },
    {
     "cell_type": "code",
     "collapsed": true,
     "input": [
      "def check_fermat(a,b,c,n):",
      "    if n>=2 and (a**n)+(b**n)==c**n:",
      "        print 'Holy smokes, Fermat was wrong!'",
      "    else:",
      "        print 'No that does not work'"
     ],
     "language": "python",
     "outputs": [],
     "prompt_number": 60
    },
    {
     "cell_type": "code",
     "collapsed": false,
     "input": [
      "check_fermat(1,2,3,4)"
     ],
     "language": "python",
     "outputs": [
      {
       "output_type": "stream",
       "stream": "stdout",
       "text": [
        "No that does not work"
       ]
      }
     ],
     "prompt_number": 61
    },
    {
     "cell_type": "code",
     "collapsed": true,
     "input": [
      "def check_fermat_prompt():",
      "    prompt_a = 'what is the value for a?\\n'",
      "    a = raw_input(prompt_a)",
      "    A=int(a)",
      "    prompt_b = 'what is the value for b?\\n'",
      "    b = raw_input(prompt_b)",
      "    B=int(b)",
      "    prompt_c = 'what is the value for c?\\n'",
      "    c = raw_input(prompt_c)",
      "    C=int(c)",
      "    prompt_n = 'what is the value for n?\\n'",
      "    n = raw_input(prompt_n)",
      "    N=int(n)",
      "    check_fermat(A,B,C,N)"
     ],
     "language": "python",
     "outputs": [],
     "prompt_number": 64
    },
    {
     "cell_type": "heading",
     "level": 3,
     "source": [
      "Exercise 5.2:"
     ]
    },
    {
     "cell_type": "code",
     "collapsed": false,
     "input": [
      "def is_triangle(a,b,c):",
      "    if a+b<=c or a+c<=b or b+c<=a:",
      "        print 'no'",
      "    else:",
      "        print 'yes'"
     ],
     "language": "python",
     "outputs": [],
     "prompt_number": 72
    },
    {
     "cell_type": "code",
     "collapsed": false,
     "input": [
      "is_triangle(1,2,1)"
     ],
     "language": "python",
     "outputs": [
      {
       "output_type": "stream",
       "stream": "stdout",
       "text": [
        "no"
       ]
      }
     ],
     "prompt_number": 73
    },
    {
     "cell_type": "code",
     "collapsed": false,
     "input": [
      "is_triangle(3,4,5)"
     ],
     "language": "python",
     "outputs": [
      {
       "output_type": "stream",
       "stream": "stdout",
       "text": [
        "yes"
       ]
      }
     ],
     "prompt_number": 74
    },
    {
     "cell_type": "code",
     "collapsed": true,
     "input": [
      "def is_triangle_prompt():",
      "    prompt_a = 'what is the value for a?\\n'",
      "    a = raw_input(prompt_a)",
      "    A=int(a)",
      "    prompt_b = 'what is the value for b?\\n'",
      "    b = raw_input(prompt_b)",
      "    B=int(b)",
      "    prompt_c = 'what is the value for c?\\n'",
      "    c = raw_input(prompt_c)",
      "    C=int(c)",
      "    is_triangle(A,B,C)"
     ],
     "language": "python",
     "outputs": [],
     "prompt_number": 75
    },
    {
     "cell_type": "code",
     "collapsed": true,
     "input": [],
     "language": "python",
     "outputs": []
    }
   ]
  }
 ]
}