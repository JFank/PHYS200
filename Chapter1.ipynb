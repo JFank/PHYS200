{
 "metadata": {
  "name": "Chapter1"
 },
 "nbformat": 3,
 "worksheets": [
  {
   "cells": [
    {
     "cell_type": "heading",
     "level": 3,
     "source": [
      "Exercise 1.1: "
     ]
    },
    {
     "cell_type": "plaintext",
     "source": [
      "The c$at sat 0n the ha't    :    The sat cat the on hat"
     ]
    },
    {
     "cell_type": "heading",
     "level": 3,
     "source": [
      "Exercise 1.2:"
     ]
    },
    {
     "cell_type": "plaintext",
     "source": [
      "Went to website"
     ]
    },
    {
     "cell_type": "heading",
     "level": 3,
     "source": [
      "Exercise 1.3:"
     ]
    },
    {
     "cell_type": "code",
     "collapsed": true,
     "input": [],
     "language": "python",
     "outputs": []
    }
   ]
  }
 ]
}