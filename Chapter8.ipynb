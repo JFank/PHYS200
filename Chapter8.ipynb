{
 "metadata": {
  "name": "Chapter8"
 },
 "nbformat": 3,
 "worksheets": [
  {
   "cells": [
    {
     "cell_type": "heading",
     "level": 3,
     "source": [
      "Exercise 8.1:"
     ]
    },
    {
     "cell_type": "code",
     "collapsed": false,
     "input": [
      "def word_back(word):",
      "    index = 0",
      "    while index < len(word):",
      "        letter = word[4-index] ",
      "        print letter ",
      "        index = index + 1"
     ],
     "language": "python",
     "outputs": [],
     "prompt_number": 55
    },
    {
     "cell_type": "code",
     "collapsed": false,
     "input": [
      "word_back('hello')"
     ],
     "language": "python",
     "outputs": [
      {
       "output_type": "stream",
       "stream": "stdout",
       "text": [
        "o",
        "l",
        "l",
        "e",
        "h"
       ]
      }
     ],
     "prompt_number": 56
    },
    {
     "cell_type": "code",
     "collapsed": true,
     "input": [],
     "language": "python",
     "outputs": []
    }
   ]
  }
 ]
}