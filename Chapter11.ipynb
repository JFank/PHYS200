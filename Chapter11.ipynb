{
 "metadata": {
  "name": "Chapter11"
 },
 "nbformat": 3,
 "worksheets": [
  {
   "cells": [
    {
     "cell_type": "heading",
     "level": 3,
     "source": [
      "Exercise 11.1:"
     ]
    },
    {
     "cell_type": "code",
     "collapsed": false,
     "input": [
      "englishdictionary = dict()",
      "fin = open('words.txt')",
      "line = fin.readline()",
      "word = line.strip()",
      "",
      "",
      "def engdicdefine(): #I had no clue how to do this so I found it online, but I still can't figure out what I am supposed to do,",
      "    index = 0       #the dicitonary concept makes sense, but not loading the file...",
      "    i = 0",
      "    while index <= 1000:",
      "        englishdictionary[index]  = word",
      "        i += 1",
      "    return englishdictionary",
      "    "
     ],
     "language": "python",
     "outputs": [],
     "prompt_number": 56
    },
    {
     "cell_type": "heading",
     "level": 3,
     "source": [
      "Exercise 11.2:"
     ]
    },
    {
     "cell_type": "code",
     "collapsed": false,
     "input": [
      "def hist(s):",
      "    d = dict()",
      "    for c in s:",
      "        d[c] = 1 + d.get(c, 0)",
      "    return d",
      "",
      "hist('fankhauser')"
     ],
     "language": "python",
     "outputs": [
      {
       "output_type": "pyout",
       "prompt_number": 1,
       "text": [
        "{'a': 2, 'e': 1, 'f': 1, 'h': 1, 'k': 1, 'n': 1, 'r': 1, 's': 1, 'u': 1}"
       ]
      }
     ],
     "prompt_number": 1
    },
    {
     "cell_type": "heading",
     "level": 3,
     "source": [
      "Exercise 11.3:"
     ]
    },
    {
     "cell_type": "code",
     "collapsed": false,
     "input": [
      "def hist(s):",
      "    d = dict()",
      "    for c in s:",
      "        d[c] = 1 + d.get(c, 0)",
      "    return d",
      "h=hist('mississippi')",
      "def print_hist(h): ",
      "    res = []",
      "    for c in h:",
      "        res.append(c)",
      "        print c, h[c]",
      "    res.sort()",
      "    print res",
      "    ",
      "    ",
      "print_hist(h)"
     ],
     "language": "python",
     "outputs": [
      {
       "output_type": "stream",
       "stream": "stdout",
       "text": [
        "i 4",
        "p 2",
        "s 4",
        "m 1",
        "['i', 'm', 'p', 's']"
       ]
      }
     ],
     "prompt_number": 3
    },
    {
     "cell_type": "code",
     "collapsed": false,
     "input": [
      "1<= (2 and 3 and 5)"
     ],
     "language": "python",
     "outputs": [
      {
       "output_type": "pyout",
       "prompt_number": 4,
       "text": [
        "True"
       ]
      }
     ],
     "prompt_number": 4
    },
    {
     "cell_type": "heading",
     "level": 3,
     "source": [
      "Exercise 11.4:"
     ]
    },
    {
     "cell_type": "code",
     "collapsed": false,
     "input": [
      "def reverse_lookup(d,v):",
      "    t = []",
      "    for c in d:",
      "        if d[c] == v:",
      "            t.append(c)",
      "    return t",
      "",
      "print h",
      "reverse_lookup(h, 4)"
     ],
     "language": "python",
     "outputs": [
      {
       "output_type": "stream",
       "stream": "stdout",
       "text": [
        "{'i': 4, 'p': 2, 's': 4, 'm': 1}"
       ]
      },
      {
       "output_type": "pyout",
       "prompt_number": 5,
       "text": [
        "['i', 's']"
       ]
      }
     ],
     "prompt_number": 5
    },
    {
     "cell_type": "heading",
     "level": 3,
     "source": [
      "Exercise 11.5:"
     ]
    },
    {
     "cell_type": "code",
     "collapsed": false,
     "input": [
      "def invert_dict(d): ",
      "    inv = dict()",
      "    for key in d: ",
      "        val = d[key]",
      "        if val not in inv: ",
      "            inv[val] = [key]",
      "        else:",
      "            inv[val].append(key)",
      "    return inv"
     ],
     "language": "python",
     "outputs": [],
     "prompt_number": 6
    },
    {
     "cell_type": "code",
     "collapsed": false,
     "input": [
      "invert_dict(h)"
     ],
     "language": "python",
     "outputs": [
      {
       "output_type": "pyout",
       "prompt_number": 8,
       "text": [
        "{1: ['m'], 2: ['p'], 4: ['i', 's']}"
       ]
      }
     ],
     "prompt_number": 8
    },
    {
     "cell_type": "code",
     "collapsed": false,
     "input": [
      "def invert_dict(d): #I couldn't figure out what setdefault is or does...",
      "    inv = dict()",
      "    for key in d: ",
      "        val = d[key]",
      "        if val not in inv: ",
      "            inv[val] = [key]",
      "        else:",
      "            inv[val].append(key)",
      "    return inv",
      "",
      "invert_dict(h)"
     ],
     "language": "python",
     "outputs": [
      {
       "output_type": "pyout",
       "prompt_number": 10,
       "text": [
        "{1: ['m'], 2: ['p'], 4: ['i', 's']}"
       ]
      }
     ],
     "prompt_number": 10
    },
    {
     "cell_type": "code",
     "collapsed": true,
     "input": [],
     "language": "python",
     "outputs": []
    }
   ]
  }
 ]
}