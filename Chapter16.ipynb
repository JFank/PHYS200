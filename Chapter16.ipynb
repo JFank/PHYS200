{
 "metadata": {
  "name": "Chapter16"
 },
 "nbformat": 3,
 "worksheets": [
  {
   "cells": [
    {
     "cell_type": "heading",
     "level": 3,
     "source": [
      "Exercise 16.1:"
     ]
    },
    {
     "cell_type": "code",
     "collapsed": false,
     "input": [
      "class Time(object): ",
      "    \"\"\"represents the time of day.",
      "       attributes: hour, minute, second",
      "    \"\"\"",
      "    ",
      "time = Time() ",
      "time.hour = 11 ",
      "time.minute = 59 ",
      "time.second = 30",
      "",
      "def print_time(p):",
      "    print '%d:%g:%s' % (p.hour, p.minute, p.second)",
      "    ",
      "print_time(time)"
     ],
     "language": "python",
     "outputs": [
      {
       "output_type": "stream",
       "stream": "stdout",
       "text": [
        "11:59:30"
       ]
      }
     ],
     "prompt_number": 3
    },
    {
     "cell_type": "heading",
     "level": 3,
     "source": [
      "Exercise 16.2:"
     ]
    },
    {
     "cell_type": "code",
     "collapsed": false,
     "input": [
      "class Time(object): ",
      "    \"\"\"represents the time of day.",
      "       attributes: hour, minute, second",
      "    \"\"\"",
      "    ",
      "time = Time() ",
      "time.hour = 11 ",
      "time.minute = 59 ",
      "time.second = 30",
      "",
      "def print_time(p):",
      "    print '%d:%g:%s' % (p.hour, p.minute, p.second)",
      "    ",
      "class Time(object): ",
      "    \"\"\"represents the time of day.",
      "       attributes: hour, minute, second",
      "    \"\"\"",
      "    ",
      "time = Time() ",
      "time.hour = 11 ",
      "time.minute = 59 ",
      "time.second = 30",
      "",
      "def print_time(p):",
      "    clock = '%d:%g:%s' % (p.hour, p.minute, p.second)",
      "    return clock",
      "",
      "a = print_time(time)",
      "a"
     ],
     "language": "python",
     "outputs": [
      {
       "output_type": "pyout",
       "prompt_number": 4,
       "text": [
        "'11:59:30'"
       ]
      }
     ],
     "prompt_number": 4
    },
    {
     "cell_type": "heading",
     "level": 3,
     "source": [
      "Exercise 16.3:"
     ]
    },
    {
     "cell_type": "code",
     "collapsed": false,
     "input": [
      "def increment(time, seconds):",
      "        time.second += seconds",
      "        time.minute += time.second/60",
      "        time.hour += time.minute/60",
      " ",
      "        time.second %= 60",
      "        time.minute %= 60",
      "        time.hour %= 24",
      "      ",
      "time = Time() ",
      "time.hour = 11 ",
      "time.minute = 59 ",
      "time.second = 30",
      "increment(time, 190)",
      "",
      "def print_time(p):",
      "    clock = '%d:%g:%s' % (p.hour, p.minute, p.second)",
      "    return clock",
      "",
      "a = print_time(time)",
      "a"
     ],
     "language": "python",
     "outputs": [
      {
       "output_type": "pyout",
       "prompt_number": 21,
       "text": [
        "'12:2:40'"
       ]
      }
     ],
     "prompt_number": 21
    },
    {
     "cell_type": "heading",
     "level": 3,
     "source": [
      "Exercise 16.4:"
     ]
    },
    {
     "cell_type": "code",
     "collapsed": false,
     "input": [
      "from copy import deepcopy",
      " ",
      "def increment(time, seconds):",
      "        r = deepcopy(time)",
      " ",
      "        r.second += seconds",
      "        r.minute += r.second//60",
      "        r.hour += r.minute//60",
      " ",
      "        r.second %= 60",
      "        r.minute %= 60",
      "        r.hour %= 24",
      " ",
      "        return r",
      "    ",
      "increment(time,70)",
      "",
      "r.hour #why doesnt it worrrrkkk"
     ],
     "language": "python",
     "outputs": [
      {
       "ename": "NameError",
       "evalue": "name 'r' is not defined",
       "output_type": "pyerr",
       "traceback": [
        "\u001b[0;31m---------------------------------------------------------------------------\u001b[0m\n\u001b[0;31mNameError\u001b[0m                                 Traceback (most recent call last)",
        "\u001b[0;32m/Users/jfank/PHYS200/<ipython-input-44-6964398485ba>\u001b[0m in \u001b[0;36m<module>\u001b[0;34m()\u001b[0m\n\u001b[1;32m     16\u001b[0m \u001b[0mincrement\u001b[0m\u001b[0;34m(\u001b[0m\u001b[0mtime\u001b[0m\u001b[0;34m,\u001b[0m\u001b[0;36m70\u001b[0m\u001b[0;34m)\u001b[0m\u001b[0;34m\u001b[0m\u001b[0m\n\u001b[1;32m     17\u001b[0m \u001b[0;34m\u001b[0m\u001b[0m\n\u001b[0;32m---> 18\u001b[0;31m \u001b[0mr\u001b[0m\u001b[0;34m.\u001b[0m\u001b[0mhour\u001b[0m\u001b[0;34m\u001b[0m\u001b[0m\n\u001b[0m",
        "\u001b[0;31mNameError\u001b[0m: name 'r' is not defined"
       ]
      }
     ],
     "prompt_number": 44
    },
    {
     "cell_type": "heading",
     "level": 3,
     "source": [
      "Exercise 16.5:"
     ]
    },
    {
     "cell_type": "code",
     "collapsed": false,
     "input": [
      "class Time(object):",
      "    \"\"\"represents the time of day.",
      "        attributes: hour, minute, second\"\"\"",
      " ",
      "time = Time()",
      "time.hour = 11",
      "time.minute = 59",
      "time.second = 30",
      " ",
      "def time_to_int(time):",
      "    minutes = time.hour * 60 + time.minute",
      "    seconds = minutes * 60 + time.second",
      "    return seconds",
      " ",
      "def int_to_time(seconds):",
      "    time = Time()",
      "    minutes, time.second = divmod(seconds, 60)",
      "    time.hour, time.minute = divmod(minutes, 60)",
      "    return time",
      " ",
      "def increment(time, addtime):",
      "    seconds = time_to_int(time)",
      "    return int_to_time(seconds + addtime)",
      " ",
      "def print_time (x):",
      "    print 'The time is %.2d : %.2d : %.2d' % (x.hour, x.minute, x.second)",
      "print_time (time)",
      " ",
      "newtime = increment (time, 70)",
      " ",
      "print_time (newtime)"
     ],
     "language": "python",
     "outputs": [
      {
       "output_type": "stream",
       "stream": "stdout",
       "text": [
        "The time is 11 : 59 : 30",
        "The time is 12 : 00 : 40"
       ]
      }
     ],
     "prompt_number": 45
    },
    {
     "cell_type": "code",
     "collapsed": true,
     "input": [],
     "language": "python",
     "outputs": []
    }
   ]
  }
 ]
}