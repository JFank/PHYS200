{
 "metadata": {
  "name": "Chapter14"
 },
 "nbformat": 3,
 "worksheets": [
  {
   "cells": [
    {
     "cell_type": "code",
     "collapsed": false,
     "input": [
      "camels = 42 ",
      "'I have spotted %d camels.' % camels "
     ],
     "language": "python",
     "outputs": [
      {
       "output_type": "pyout",
       "prompt_number": 2,
       "text": [
        "'I have spotted 42 camels.'"
       ]
      }
     ],
     "prompt_number": 2
    },
    {
     "cell_type": "code",
     "collapsed": false,
     "input": [
      ">>> 'In %d years I have spotted %g %s.' % (3, pi, 'camels')"
     ],
     "language": "python",
     "outputs": [
      {
       "output_type": "pyout",
       "prompt_number": 6,
       "text": [
        "'In 3 years I have spotted 3.14159 camels.'"
       ]
      }
     ],
     "prompt_number": 6
    },
    {
     "cell_type": "heading",
     "level": 3,
     "source": [
      "Exercise 14.1:"
     ]
    },
    {
     "cell_type": "code",
     "collapsed": false,
     "input": [
      "import os",
      "def walker(dir): ",
      "    t = []",
      "    for name in os.listdir(dir):",
      "        path = os.path.join(dir, name)",
      "        if os.path.isfile(path): ",
      "            t.append(name)",
      "            ",
      "        else: ",
      "            walker(path)",
      "    print t",
      "walker('3DTracker')"
     ],
     "language": "python",
     "outputs": [
      {
       "output_type": "stream",
       "stream": "stdout",
       "text": [
        "[]",
        "['applypatch-msg.sample', 'commit-msg.sample', 'post-update.sample', 'pre-applypatch.sample', 'pre-commit.sample', 'pre-rebase.sample', 'prepare-commit-msg.sample', 'update.sample']",
        "['exclude']",
        "['jftracker', 'master']",
        "['jftracker']",
        "[]",
        "[]",
        "['HEAD']",
        "['0ab58c6be6bc52b83e5d4e2064ea9c3ba9a0e0']",
        "['ad57ab2bd6d86e70d465a2f567c0052ea44ffe']",
        "['6e6991292efa3a3712c752aff794986a8b657d']",
        "['2c9132bfbb36a5997182e6135a1b33c60561d6', 'a41af4f14ff9c08b14bdaff7954b0a1913562b']",
        "['e77eedca034ef4138d214605627b8cd046316d']",
        "['1776a0fddbe5c4d5a278b4f46ac2ef268ba2c5']",
        "['e24d5074e16fb1ac18c9bd136f2d36f3dd1b12']",
        "['8bcb34762d908fe8b0360f2c7fa0dd76192dae']",
        "['5bceffd08a48338773afdd1e2de4d4bc082787']",
        "['5d49a379266278fedcde59266bce4407778d3b']",
        "['3bcfda51a2696051c9897b748d6b89ad4ec1a5']",
        "['73114ba601c8a71b971f05d5a691ef0e144038']",
        "['0967c95adb43bff712aa925bdf96ae7db25542']",
        "['5e64fcc83934858875efe4ddc6a0809b463f53']",
        "['3a085154e404c6ddfcdf57cb4c5bbaea1d29cc']",
        "['f86e00ec9983d814c47134addbfb54061713c8']",
        "['a55cd11359ea9f5e1f4601e5ac9b804f2cee01']",
        "['66ad8878489e54142cd4f74729abc5a2c26720']",
        "['aa2eb9d267c20dc0e2dc38f65dcd3afba8a9b7']",
        "['4af9055eb75a397d061a02bb914a32b1087d64']",
        "['6f75342ae76054fccf044a120f6faf22f784f8']",
        "['9de29bb2d1d6434b8b29ae775ad8c2e48c5391']",
        "['3f1a676d9eacdd6a26f832624e11589a23f4f0']",
        "['bd81566ef621b1466ddd5dae9ec6884c6957ed']",
        "['1ab33362d8125ef26663115902fec8d17b8c32', '833770086f03ad239cf02d54dbaaaebf670fcc']",
        "[]",
        "['pack-dcd707121f3dbe00c4499e32d46be197610550bf.idx', 'pack-dcd707121f3dbe00c4499e32d46be197610550bf.pack']",
        "[]",
        "['jftracker', 'master']",
        "['HEAD', 'jftracker']",
        "[]",
        "[]",
        "[]",
        "['.DS_Store', 'COMMIT_EDITMSG', 'config', 'description', 'FETCH_HEAD', 'HEAD', 'index', 'ORIG_HEAD', 'packed-refs']",
        "['.DS_Store', '.gitignore', 'jfplan.md', 'myplan_TW.md', 'PatternRecognition.md', 'projectplan.md', 'README.md', 'stanplan.md']"
       ]
      }
     ],
     "prompt_number": 6
    },
    {
     "cell_type": "code",
     "collapsed": false,
     "input": [
      "os.path.walk('3DTracker', walker, '.py') #I don't understand what the inputs are supposed to be..."
     ],
     "language": "python",
     "outputs": [
      {
       "ename": "TypeError",
       "evalue": "walker() takes exactly 1 argument (3 given)",
       "output_type": "pyerr",
       "traceback": [
        "\u001b[0;31m---------------------------------------------------------------------------\u001b[0m\n\u001b[0;31mTypeError\u001b[0m                                 Traceback (most recent call last)",
        "\u001b[0;32m/Users/jfank/PHYS200/<ipython-input-26-fdd8a6bdcf66>\u001b[0m in \u001b[0;36m<module>\u001b[0;34m()\u001b[0m\n\u001b[0;32m----> 1\u001b[0;31m \u001b[0mos\u001b[0m\u001b[0;34m.\u001b[0m\u001b[0mpath\u001b[0m\u001b[0;34m.\u001b[0m\u001b[0mwalk\u001b[0m\u001b[0;34m(\u001b[0m\u001b[0;34m'3DTracker'\u001b[0m\u001b[0;34m,\u001b[0m \u001b[0mwalker\u001b[0m\u001b[0;34m,\u001b[0m \u001b[0;34m'.py'\u001b[0m\u001b[0;34m)\u001b[0m \u001b[0;31m#I don't understand what the inputs are supposed to be...\u001b[0m\u001b[0;34m\u001b[0m\u001b[0m\n\u001b[0m",
        "\u001b[0;32m/Library/Frameworks/Python.framework/Versions/7.2/lib/python2.7/posixpath.pyc\u001b[0m in \u001b[0;36mwalk\u001b[0;34m(top, func, arg)\u001b[0m\n\u001b[1;32m    227\u001b[0m     \u001b[0;32mexcept\u001b[0m \u001b[0mos\u001b[0m\u001b[0;34m.\u001b[0m\u001b[0merror\u001b[0m\u001b[0;34m:\u001b[0m\u001b[0;34m\u001b[0m\u001b[0m\n\u001b[1;32m    228\u001b[0m         \u001b[0;32mreturn\u001b[0m\u001b[0;34m\u001b[0m\u001b[0m\n\u001b[0;32m--> 229\u001b[0;31m     \u001b[0mfunc\u001b[0m\u001b[0;34m(\u001b[0m\u001b[0marg\u001b[0m\u001b[0;34m,\u001b[0m \u001b[0mtop\u001b[0m\u001b[0;34m,\u001b[0m \u001b[0mnames\u001b[0m\u001b[0;34m)\u001b[0m\u001b[0;34m\u001b[0m\u001b[0m\n\u001b[0m\u001b[1;32m    230\u001b[0m     \u001b[0;32mfor\u001b[0m \u001b[0mname\u001b[0m \u001b[0;32min\u001b[0m \u001b[0mnames\u001b[0m\u001b[0;34m:\u001b[0m\u001b[0;34m\u001b[0m\u001b[0m\n\u001b[1;32m    231\u001b[0m         \u001b[0mname\u001b[0m \u001b[0;34m=\u001b[0m \u001b[0mjoin\u001b[0m\u001b[0;34m(\u001b[0m\u001b[0mtop\u001b[0m\u001b[0;34m,\u001b[0m \u001b[0mname\u001b[0m\u001b[0;34m)\u001b[0m\u001b[0;34m\u001b[0m\u001b[0m\n",
        "\u001b[0;31mTypeError\u001b[0m: walker() takes exactly 1 argument (3 given)"
       ]
      }
     ],
     "prompt_number": 26
    },
    {
     "cell_type": "code",
     "collapsed": true,
     "input": [],
     "language": "python",
     "outputs": [],
     "prompt_number": 17
    },
    {
     "cell_type": "code",
     "collapsed": true,
     "input": [],
     "language": "python",
     "outputs": []
    }
   ]
  }
 ]
}