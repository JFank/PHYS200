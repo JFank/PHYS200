{
 "metadata": {
  "name": "Chapter6"
 },
 "nbformat": 3,
 "worksheets": [
  {
   "cells": [
    {
     "cell_type": "code",
     "collapsed": true,
     "input": [
      "def absolute_value(x): ",
      "    if x<0:",
      "        return -x ",
      "    if x>0:",
      "        return x"
     ],
     "language": "python",
     "outputs": [],
     "prompt_number": 1
    },
    {
     "cell_type": "code",
     "collapsed": false,
     "input": [
      "print absolute_value(-3)"
     ],
     "language": "python",
     "outputs": [
      {
       "output_type": "stream",
       "stream": "stdout",
       "text": [
        "3"
       ]
      }
     ],
     "prompt_number": 10
    },
    {
     "cell_type": "code",
     "collapsed": false,
     "input": [
      "type (In[10])"
     ],
     "language": "python",
     "outputs": [
      {
       "output_type": "pyout",
       "prompt_number": 11,
       "text": [
        "unicode"
       ]
      }
     ],
     "prompt_number": 11
    },
    {
     "cell_type": "heading",
     "level": 3,
     "source": [
      "Exercise 6.1:"
     ]
    },
    {
     "cell_type": "code",
     "collapsed": false,
     "input": [
      "def compare(x,y):",
      "    if x>y:",
      "        return 1",
      "    if x == y:",
      "        return 0",
      "    if x<y:",
      "        return -1"
     ],
     "language": "python",
     "outputs": [],
     "prompt_number": 13
    },
    {
     "cell_type": "code",
     "collapsed": false,
     "input": [
      "compare(1,2)"
     ],
     "language": "python",
     "outputs": [
      {
       "output_type": "pyout",
       "prompt_number": 14,
       "text": [
        "-1"
       ]
      }
     ],
     "prompt_number": 14
    },
    {
     "cell_type": "code",
     "collapsed": false,
     "input": [
      "compare(3,3)"
     ],
     "language": "python",
     "outputs": [
      {
       "output_type": "pyout",
       "prompt_number": 15,
       "text": [
        "0"
       ]
      }
     ],
     "prompt_number": 15
    },
    {
     "cell_type": "code",
     "collapsed": false,
     "input": [
      "compare(2,1)"
     ],
     "language": "python",
     "outputs": [
      {
       "output_type": "pyout",
       "prompt_number": 16,
       "text": [
        "1"
       ]
      }
     ],
     "prompt_number": 16
    },
    {
     "cell_type": "heading",
     "level": 3,
     "source": [
      "Exercise 6.2:"
     ]
    },
    {
     "cell_type": "code",
     "collapsed": false,
     "input": [
      "def hypotenuse(a,b):",
      "    return 0.0"
     ],
     "language": "python",
     "outputs": [],
     "prompt_number": 19
    },
    {
     "cell_type": "code",
     "collapsed": false,
     "input": [
      "hypotenuse(1,2)"
     ],
     "language": "python",
     "outputs": [
      {
       "output_type": "pyout",
       "prompt_number": 20,
       "text": [
        "0.0"
       ]
      }
     ],
     "prompt_number": 20
    },
    {
     "cell_type": "code",
     "collapsed": true,
     "input": [
      "def hypotenuse(a,b):",
      "    print 'a is', a",
      "    print 'b is', b",
      "    return 0.0"
     ],
     "language": "python",
     "outputs": [],
     "prompt_number": 23
    },
    {
     "cell_type": "code",
     "collapsed": false,
     "input": [
      "hypotenuse(1,6)"
     ],
     "language": "python",
     "outputs": [
      {
       "output_type": "stream",
       "stream": "stdout",
       "text": [
        "a is 1",
        "b is 6"
       ]
      },
      {
       "output_type": "pyout",
       "prompt_number": 24,
       "text": [
        "0.0"
       ]
      }
     ],
     "prompt_number": 24
    },
    {
     "cell_type": "code",
     "collapsed": false,
     "input": [
      "def hypotenuse(a,b):",
      "    csquare = a**2 + b**2",
      "    print 'csquare is', csquare",
      "    return 0.0",
      "    "
     ],
     "language": "python",
     "outputs": [],
     "prompt_number": 26
    },
    {
     "cell_type": "code",
     "collapsed": false,
     "input": [
      "hypotenuse(3,4)"
     ],
     "language": "python",
     "outputs": [
      {
       "output_type": "stream",
       "stream": "stdout",
       "text": [
        "c is 25"
       ]
      },
      {
       "output_type": "pyout",
       "prompt_number": 27,
       "text": [
        "0.0"
       ]
      }
     ],
     "prompt_number": 27
    },
    {
     "cell_type": "code",
     "collapsed": true,
     "input": [
      "def hypotenuse(a,b):",
      "    csquare = a**2 + b**2",
      "    result = math.sqrt(csquare)",
      "    return result"
     ],
     "language": "python",
     "outputs": [],
     "prompt_number": 28
    },
    {
     "cell_type": "code",
     "collapsed": false,
     "input": [
      "hypotenuse(3,4)"
     ],
     "language": "python",
     "outputs": [
      {
       "output_type": "pyout",
       "prompt_number": 29,
       "text": [
        "5.0"
       ]
      }
     ],
     "prompt_number": 29
    },
    {
     "cell_type": "code",
     "collapsed": false,
     "input": [
      "hypotenuse(4,9)"
     ],
     "language": "python",
     "outputs": [
      {
       "output_type": "pyout",
       "prompt_number": 30,
       "text": [
        "9.848857801796104"
       ]
      }
     ],
     "prompt_number": 30
    },
    {
     "cell_type": "heading",
     "level": 3,
     "source": [
      "Exercise 6.3:"
     ]
    },
    {
     "cell_type": "code",
     "collapsed": false,
     "input": [
      "def is_divisble(x,y):",
      "    return x%y == 0",
      "    "
     ],
     "language": "python",
     "outputs": [],
     "prompt_number": 32
    },
    {
     "cell_type": "code",
     "collapsed": false,
     "input": [
      "is_divisble(4,5)"
     ],
     "language": "python",
     "outputs": [
      {
       "output_type": "pyout",
       "prompt_number": 33,
       "text": [
        "False"
       ]
      }
     ],
     "prompt_number": 33
    },
    {
     "cell_type": "code",
     "collapsed": true,
     "input": [
      "def is_between(x,y,z):",
      "    return y>=x and y<=z",
      "    return y==x and y<=z",
      "    return y>=x and y==z",
      "    return y==x and y==z"
     ],
     "language": "python",
     "outputs": [],
     "prompt_number": 34
    },
    {
     "cell_type": "code",
     "collapsed": false,
     "input": [
      "is_between(1,2,3)"
     ],
     "language": "python",
     "outputs": [
      {
       "output_type": "pyout",
       "prompt_number": 35,
       "text": [
        "True"
       ]
      }
     ],
     "prompt_number": 35
    },
    {
     "cell_type": "code",
     "collapsed": false,
     "input": [
      "is_between(1,1,3)"
     ],
     "language": "python",
     "outputs": [
      {
       "output_type": "pyout",
       "prompt_number": 37,
       "text": [
        "True"
       ]
      }
     ],
     "prompt_number": 37
    },
    {
     "cell_type": "code",
     "collapsed": false,
     "input": [
      "is_between(1,3,3)"
     ],
     "language": "python",
     "outputs": [
      {
       "output_type": "pyout",
       "prompt_number": 38,
       "text": [
        "True"
       ]
      }
     ],
     "prompt_number": 38
    },
    {
     "cell_type": "code",
     "collapsed": false,
     "input": [
      "is_between(1,1,1)"
     ],
     "language": "python",
     "outputs": [
      {
       "output_type": "pyout",
       "prompt_number": 39,
       "text": [
        "True"
       ]
      }
     ],
     "prompt_number": 39
    },
    {
     "cell_type": "code",
     "collapsed": false,
     "input": [
      "is_between(1,4,3)"
     ],
     "language": "python",
     "outputs": [
      {
       "output_type": "pyout",
       "prompt_number": 40,
       "text": [
        "False"
       ]
      }
     ],
     "prompt_number": 40
    },
    {
     "cell_type": "heading",
     "level": 3,
     "source": [
      "Exercise 6.4:"
     ]
    },
    {
     "cell_type": "code",
     "collapsed": false,
     "input": [
      "def b(z):",
      "\tprod = a(z, z)",
      "\tprint z, prod ",
      "\treturn prod",
      "def a(x, y): ",
      "\tx=x+1",
      "\treturn x*y",
      "def c(x, y, z):",
      "\tsum=x+y+z ",
      "\tpow = b(sum)**2 ",
      "\treturn pow",
      "\t",
      "x=1 ",
      "y=x+1 ",
      "print c(x, y+3, x+y)"
     ],
     "language": "python",
     "outputs": [
      {
       "output_type": "stream",
       "stream": "stdout",
       "text": [
        "9 90",
        "8100"
       ]
      }
     ],
     "prompt_number": 1
    },
    {
     "cell_type": "code",
     "collapsed": true,
     "input": [
      "# The first number is the sum of (x,y,z)",
      "# The second nubmer is the product of z and z through the function a(x,y)",
      "# the third number is simply the previous product squared"
     ],
     "language": "python",
     "outputs": [],
     "prompt_number": 2
    },
    {
     "cell_type": "heading",
     "level": 3,
     "source": [
      "Exercise 6.5:"
     ]
    },
    {
     "cell_type": "code",
     "collapsed": false,
     "input": [
      "def ack(m,n):",
      "    if m==0:",
      "        return n+1",
      "    elif m>0 and n==0:",
      "        return ack(m-1,1)",
      "    else:",
      "        return ack(m-1,ack(m,n-1))"
     ],
     "language": "python",
     "outputs": [],
     "prompt_number": 2
    },
    {
     "cell_type": "code",
     "collapsed": false,
     "input": [
      "ack(3,4)"
     ],
     "language": "python",
     "outputs": [
      {
       "output_type": "pyout",
       "prompt_number": 3,
       "text": [
        "125"
       ]
      }
     ],
     "prompt_number": 3
    },
    {
     "cell_type": "heading",
     "level": 3,
     "source": [
      "Exercise 6.6:"
     ]
    },
    {
     "cell_type": "code",
     "collapsed": false,
     "input": [
      "def first(word): ",
      "    return word[0]",
      "",
      "def last(word):",
      "    return word[-1]",
      "",
      "def middle(word): ",
      "    return word[1:-1]",
      "",
      "first('brat'), last('brat'), middle('brat')"
     ],
     "language": "python",
     "outputs": [
      {
       "output_type": "pyout",
       "prompt_number": 20,
       "text": [
        "('b', 't', 'ra', 'r')"
       ]
      }
     ],
     "prompt_number": 20
    },
    {
     "cell_type": "code",
     "collapsed": true,
     "input": [],
     "language": "python",
     "outputs": []
    },
    {
     "cell_type": "code",
     "collapsed": false,
     "input": [
      "def first(word): ",
      "    return word[0]",
      "",
      "def last(word):",
      "    return word[-1]",
      "",
      "def middle(word): ",
      "    return word[1:-1]",
      "",
      "def is_palindrome(word):",
      "    n = len(word)",
      "    for i in range(n):",
      "        if n<=2:",
      "            return 'Please use longer word'",
      "        elif first(word)==last(word) and first(middle(word))==last(middle(word)): #How do I make this repeat progressing towards middle of word?",
      "            return True",
      "        else:",
      "            return False",
      "    "
     ],
     "language": "python",
     "outputs": [],
     "prompt_number": 29
    },
    {
     "cell_type": "code",
     "collapsed": false,
     "input": [
      "is_palindrome('racecar')"
     ],
     "language": "python",
     "outputs": [
      {
       "output_type": "pyout",
       "prompt_number": 32,
       "text": [
        "True"
       ]
      }
     ],
     "prompt_number": 32
    },
    {
     "cell_type": "heading",
     "level": 3,
     "source": [
      "Exercise 6.7:"
     ]
    },
    {
     "cell_type": "code",
     "collapsed": true,
     "input": [
      "def is_power(a,b):",
      "    if a%b == 0:",
      "        return b**(a/b)",
      "    else:",
      "        return 'Not a power'"
     ],
     "language": "python",
     "outputs": [],
     "prompt_number": 33
    },
    {
     "cell_type": "code",
     "collapsed": false,
     "input": [
      "is_power(3,4)"
     ],
     "language": "python",
     "outputs": [
      {
       "output_type": "pyout",
       "prompt_number": 34,
       "text": [
        "'not a power'"
       ]
      }
     ],
     "prompt_number": 34
    },
    {
     "cell_type": "code",
     "collapsed": false,
     "input": [
      "is_power(9,3)"
     ],
     "language": "python",
     "outputs": [
      {
       "output_type": "pyout",
       "prompt_number": 37,
       "text": [
        "27"
       ]
      }
     ],
     "prompt_number": 37
    },
    {
     "cell_type": "heading",
     "level": 3,
     "source": [
      "Exercise 6.8:"
     ]
    },
    {
     "cell_type": "code",
     "collapsed": false,
     "input": [
      "def GDC(a,b): #Lost on this one....",
      "    if a>b:",
      "        int(n)= a-1",
      "    elif b>a:",
      "        int(n)=b-1",
      "    else:",
      "        int(n)=a-1"
     ],
     "language": "python",
     "outputs": [
      {
       "ename": "SyntaxError",
       "evalue": "can't assign to function call (<ipython-input-59-beff729afaa1>, line 5)",
       "output_type": "pyerr",
       "traceback": [
        "\u001b[0;36m  File \u001b[0;32m\"<ipython-input-59-beff729afaa1>\"\u001b[0;36m, line \u001b[0;32m5\u001b[0m\n\u001b[0;31mSyntaxError\u001b[0m\u001b[0;31m:\u001b[0m can't assign to function call\n"
       ]
      }
     ],
     "prompt_number": 59
    },
    {
     "cell_type": "code",
     "collapsed": false,
     "input": [
      "GDC(3,4)"
     ],
     "language": "python",
     "outputs": [],
     "prompt_number": 55
    },
    {
     "cell_type": "code",
     "collapsed": true,
     "input": [
      "def gcd(a,b): #How do you use the \"while\" function?",
      "    while b: a, b = b, a%b",
      "    return a"
     ],
     "language": "python",
     "outputs": [],
     "prompt_number": 60
    },
    {
     "cell_type": "code",
     "collapsed": false,
     "input": [
      "gcd(12,16)"
     ],
     "language": "python",
     "outputs": [
      {
       "output_type": "pyout",
       "prompt_number": 66,
       "text": [
        "4"
       ]
      }
     ],
     "prompt_number": 66
    },
    {
     "cell_type": "code",
     "collapsed": true,
     "input": [],
     "language": "python",
     "outputs": []
    }
   ]
  }
 ]
}