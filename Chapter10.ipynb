{
 "metadata": {
  "name": "Chapter10"
 },
 "nbformat": 3,
 "worksheets": [
  {
   "cells": [
    {
     "cell_type": "heading",
     "level": 3,
     "source": [
      "Exercise 10.1:"
     ]
    },
    {
     "cell_type": "code",
     "collapsed": false,
     "input": [
      "def run_sum(a):",
      "  tot = 0",
      "  res = []",
      "  for val in a:",
      "    tot = tot + val",
      "    res.append(tot)",
      "    print res"
     ],
     "language": "python",
     "outputs": [],
     "prompt_number": 71
    },
    {
     "cell_type": "code",
     "collapsed": false,
     "input": [
      "run_sum([1, 2, 3])"
     ],
     "language": "python",
     "outputs": [
      {
       "output_type": "stream",
       "stream": "stdout",
       "text": [
        "[1]",
        "[1, 3]",
        "[1, 3, 6]"
       ]
      }
     ],
     "prompt_number": 74
    },
    {
     "cell_type": "heading",
     "level": 3,
     "source": [
      "Exercise 10.2:"
     ]
    },
    {
     "cell_type": "code",
     "collapsed": false,
     "input": [
      "def chop(t):",
      "    last = len(t)-2",
      "    del t[0]",
      "    del t[last]",
      "    return None",
      "def middle(t):",
      "    chop(t)",
      "    print t",
      "    ",
      "middle([1,2,3,4,5,6,1,2,3,4,5,6,7,43,9])"
     ],
     "language": "python",
     "outputs": [
      {
       "output_type": "stream",
       "stream": "stdout",
       "text": [
        "[2, 3, 4, 5, 6, 1, 2, 3, 4, 5, 6, 7, 43]"
       ]
      }
     ],
     "prompt_number": 91
    },
    {
     "cell_type": "code",
     "collapsed": true,
     "input": [],
     "language": "python",
     "outputs": []
    }
   ]
  }
 ]
}