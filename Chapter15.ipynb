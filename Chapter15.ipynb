{
 "metadata": {
  "name": "Chapter15"
 },
 "nbformat": 3,
 "worksheets": [
  {
   "cells": [
    {
     "cell_type": "heading",
     "level": 3,
     "source": [
      "Exercise 15.1:"
     ]
    },
    {
     "cell_type": "code",
     "collapsed": false,
     "input": [
      "class Point(object):",
      "    \"\"\"represents a point in 2-D space\"\"\"",
      "def print_point(p): ",
      "    print '(%g, %g)' % (p.x, p.y)",
      "    ",
      "blank = Point()",
      "blank.x = 3.0",
      "blank.y = 4.0",
      "print_point(blank)"
     ],
     "language": "python",
     "outputs": [
      {
       "output_type": "stream",
       "stream": "stdout",
       "text": [
        "(3, 4)"
       ]
      }
     ],
     "prompt_number": 12
    },
    {
     "cell_type": "code",
     "collapsed": false,
     "input": [
      "def distance(p1,p2):",
      "    print 'distance = %f' % (math.sqrt((p1.x-p2.x)**2 + (p1.y-p2.y)**2))",
      "    ",
      "blank = Point()",
      "blank.x = 3.0",
      "blank.y = 4.0",
      "blank2 = Point()",
      "blank2.x = 5.0",
      "blank2.y = 6.0",
      "",
      "distance(blank,blank2)"
     ],
     "language": "python",
     "outputs": [
      {
       "output_type": "stream",
       "stream": "stdout",
       "text": [
        "distance = 2.828427"
       ]
      }
     ],
     "prompt_number": 19
    },
    {
     "cell_type": "heading",
     "level": 3,
     "source": [
      "Exercise 15.2:"
     ]
    },
    {
     "cell_type": "code",
     "collapsed": false,
     "input": [
      "class Point(object):",
      "    \"\"\"represents a point in 2-D space\"\"\"",
      "def print_point(p): ",
      "    print '(%g, %g)' % (p.x, p.y)",
      "    ",
      "class Rectangle(object):",
      "    \"\"\"represent a rectangle.",
      "       attributes: width, height, corner. ",
      "    \"\"\"",
      "    ",
      "box = Rectangle() ",
      "box.width = 100.0 ",
      "box.height = 200.0 ",
      "box.corner = Point() ",
      "box.corner.x = 0.0 ",
      "box.corner.y = 0.0",
      "",
      "def find_center(box): ",
      "    p = Point()",
      "    p.x = box.corner.x + box.width/2.0 ",
      "    p.y = box.corner.y + box.height/2.0 ",
      "    return p",
      "",
      "def move_rectangle(dy,dx):",
      "    box.corner.x += dx",
      "    box.corner.y += dy",
      "    center = find_center(box)",
      "    print_point(center)",
      "",
      "move_rectangle(50,100)"
     ],
     "language": "python",
     "outputs": [
      {
       "output_type": "stream",
       "stream": "stdout",
       "text": [
        "(150, 150)"
       ]
      }
     ],
     "prompt_number": 49
    },
    {
     "cell_type": "heading",
     "level": 3,
     "source": [
      "Exercise 15.3:"
     ]
    },
    {
     "cell_type": "code",
     "collapsed": false,
     "input": [
      "import copy",
      "class Point(object):",
      "    \"\"\"represents a point in 2-D space\"\"\"",
      "def print_point(p): ",
      "    print '(%g, %g)' % (p.x, p.y)",
      "    ",
      "class Rectangle(object):",
      "    \"\"\"represent a rectangle.",
      "       attributes: width, height, corner. ",
      "    \"\"\"",
      "    ",
      "box = Rectangle() ",
      "box.width = 100.0 ",
      "box.height = 200.0 ",
      "box.corner = Point() ",
      "box.corner.x = 0.0 ",
      "box.corner.y = 0.0",
      "",
      "def find_center(box): ",
      "    p = Point()",
      "    p.x = box.corner.x + box.width/2.0 ",
      "    p.y = box.corner.y + box.height/2.0 ",
      "    return p",
      "",
      "def move_rectangle(dy,dx):",
      "    box2 = copy.deepcopy(box)",
      "    box2.corner.x += dx",
      "    box2.corner.y += dy",
      "    center = find_center(box2)",
      "    print_point(center)",
      "",
      "move_rectangle(50,100)",
      "",
      "print box2 == box",
      "print box2 is box"
     ],
     "language": "python",
     "outputs": [
      {
       "output_type": "stream",
       "stream": "stdout",
       "text": [
        "(150, 150)",
        "False",
        "False"
       ]
      }
     ],
     "prompt_number": 56
    },
    {
     "cell_type": "code",
     "collapsed": true,
     "input": [],
     "language": "python",
     "outputs": []
    }
   ]
  }
 ]
}